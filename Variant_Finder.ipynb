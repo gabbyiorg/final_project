{
 "cells": [
  {
   "cell_type": "code",
   "execution_count": 1,
   "metadata": {},
   "outputs": [],
   "source": [
    "import numpy as np\n",
    "import matplotlib.pyplot as plt; plt.rcdefaults()\n",
    "import os\n",
    "import pandas as pd\n",
    "import re\n",
    "import sqlite3\n",
    "import importlib\n",
    "from findercode.vnt_functions import AA_translator\n",
    "from findercode.vnt_functions import sub_nones_empty\n",
    "from findercode.vnt_functions import graphing\n",
    "from findercode.filename import get_filename\n",
    "from findercode.filename import read_ini_table\n",
    "from findercode.subset import get_variant_data\n",
    "from findercode.subset import subset_dataframe\n",
    "from findercode.get_groups import get_groups\n",
    "from findercode.variants import GetVariants\n",
    "from findercode.variants import SepGroups\n",
    "from findercode.variants import Variant\n",
    "from findercode.variants import VntCount\n",
    "from findercode.variants import ConstFullName"
   ]
  },
  {
   "cell_type": "markdown",
   "metadata": {
    "collapsed": true
   },
   "source": [
    "### For DEMO please use: example.xlsx"
   ]
  },
  {
   "cell_type": "code",
   "execution_count": 2,
   "metadata": {},
   "outputs": [
    {
     "name": "stdout",
     "output_type": "stream",
     "text": [
      "Please enter the name of the excel table of your interest in the format, Name.xlsx:  example.xlsx\n"
     ]
    },
    {
     "data": {
      "text/html": [
       "<div>\n",
       "<table border=\"1\" class=\"dataframe\">\n",
       "  <thead>\n",
       "    <tr style=\"text-align: right;\">\n",
       "      <th></th>\n",
       "      <th>Gene</th>\n",
       "      <th>Mutation Name</th>\n",
       "      <th>DNA Sequence Variation</th>\n",
       "      <th>Tumor Site</th>\n",
       "      <th>Gender</th>\n",
       "      <th>Race</th>\n",
       "    </tr>\n",
       "  </thead>\n",
       "  <tbody>\n",
       "    <tr>\n",
       "      <th>53</th>\n",
       "      <td>CDH1</td>\n",
       "      <td>p.R335*</td>\n",
       "      <td>c.1003C&gt;T</td>\n",
       "      <td>BREAST</td>\n",
       "      <td>F</td>\n",
       "      <td>White</td>\n",
       "    </tr>\n",
       "    <tr>\n",
       "      <th>143</th>\n",
       "      <td>CDH1</td>\n",
       "      <td></td>\n",
       "      <td>c.1008+8G&gt;T</td>\n",
       "      <td>Endometrium</td>\n",
       "      <td>F</td>\n",
       "      <td>White</td>\n",
       "    </tr>\n",
       "    <tr>\n",
       "      <th>122</th>\n",
       "      <td>CDH1</td>\n",
       "      <td>p.E336D</td>\n",
       "      <td>c.1008G&gt;C</td>\n",
       "      <td>BREAST</td>\n",
       "      <td>F</td>\n",
       "      <td>White</td>\n",
       "    </tr>\n",
       "    <tr>\n",
       "      <th>155</th>\n",
       "      <td>CDH1</td>\n",
       "      <td>p.S337_splice</td>\n",
       "      <td>c.1009_splice</td>\n",
       "      <td>LUNG</td>\n",
       "      <td>M</td>\n",
       "      <td>White</td>\n",
       "    </tr>\n",
       "    <tr>\n",
       "      <th>52</th>\n",
       "      <td>CDH1</td>\n",
       "      <td>p.A34Efs*23</td>\n",
       "      <td>c.100_104delGCCGA</td>\n",
       "      <td>BREAST</td>\n",
       "      <td>F</td>\n",
       "      <td>White</td>\n",
       "    </tr>\n",
       "  </tbody>\n",
       "</table>\n",
       "</div>"
      ],
      "text/plain": [
       "     Gene  Mutation Name DNA Sequence Variation   Tumor Site Gender   Race\n",
       "53   CDH1        p.R335*              c.1003C>T       BREAST      F  White\n",
       "143  CDH1                           c.1008+8G>T  Endometrium      F  White\n",
       "122  CDH1        p.E336D              c.1008G>C       BREAST      F  White\n",
       "155  CDH1  p.S337_splice          c.1009_splice         LUNG      M  White\n",
       "52   CDH1    p.A34Efs*23      c.100_104delGCCGA       BREAST      F  White"
      ]
     },
     "execution_count": 2,
     "metadata": {},
     "output_type": "execute_result"
    }
   ],
   "source": [
    "df = read_ini_table(table_name=get_filename())\n",
    "df.head()"
   ]
  },
  {
   "cell_type": "markdown",
   "metadata": {},
   "source": [
    "### Let's create an instance of the class GetVariants "
   ]
  },
  {
   "cell_type": "code",
   "execution_count": 3,
   "metadata": {},
   "outputs": [
    {
     "name": "stdout",
     "output_type": "stream",
     "text": [
      "Variant types:\n",
      "c_change: 0\n",
      "c_fs: 0\n",
      "c_splice: 0\n",
      "g_name: 0\n",
      "p_FS: 0\n",
      "p_change: 0\n",
      "\n"
     ]
    }
   ],
   "source": [
    "v = GetVariants()\n",
    "print(v)\n",
    "#type(v)"
   ]
  },
  {
   "cell_type": "markdown",
   "metadata": {},
   "source": [
    "### Clean up initial data: Capture the acceptable variants, drop duplicates, sort values, etc."
   ]
  },
  {
   "cell_type": "code",
   "execution_count": 4,
   "metadata": {},
   "outputs": [
    {
     "name": "stdout",
     "output_type": "stream",
     "text": [
      "<class 'findercode.variants.GetVariants'>\n",
      "Variant types:\n",
      "c_change: 118\n",
      "c_fs: 52\n",
      "c_splice: 9\n",
      "g_name: 190\n",
      "p_FS: 50\n",
      "p_change: 119\n",
      "\n"
     ]
    }
   ],
   "source": [
    "v = get_variant_data(df)\n",
    "print(v)"
   ]
  },
  {
   "cell_type": "markdown",
   "metadata": {},
   "source": [
    "### Create three different dataframes with the captured variants "
   ]
  },
  {
   "cell_type": "code",
   "execution_count": 5,
   "metadata": {
    "collapsed": true
   },
   "outputs": [],
   "source": [
    "df1, df2, df3 = subset_dataframe(df, v)"
   ]
  },
  {
   "cell_type": "code",
   "execution_count": 6,
   "metadata": {},
   "outputs": [
    {
     "data": {
      "text/html": [
       "<div>\n",
       "<table border=\"1\" class=\"dataframe\">\n",
       "  <thead>\n",
       "    <tr style=\"text-align: right;\">\n",
       "      <th></th>\n",
       "      <th>Gene</th>\n",
       "      <th>Mutation Name</th>\n",
       "      <th>DNA Sequence Variation</th>\n",
       "      <th>Tumor Site</th>\n",
       "      <th>Gender</th>\n",
       "      <th>Race</th>\n",
       "    </tr>\n",
       "  </thead>\n",
       "  <tbody>\n",
       "    <tr>\n",
       "      <th>52</th>\n",
       "      <td>CDH1</td>\n",
       "      <td>p.A34Efs*23</td>\n",
       "      <td>c.100_104delGCCGA</td>\n",
       "      <td>BREAST</td>\n",
       "      <td>F</td>\n",
       "      <td>White</td>\n",
       "    </tr>\n",
       "    <tr>\n",
       "      <th>204</th>\n",
       "      <td>CDH1</td>\n",
       "      <td>p.F338fs</td>\n",
       "      <td>c.1013_1014TC&gt;T</td>\n",
       "      <td>STOMACH</td>\n",
       "      <td>M</td>\n",
       "      <td>Unknown - Declined</td>\n",
       "    </tr>\n",
       "    <tr>\n",
       "      <th>106</th>\n",
       "      <td>CDH1</td>\n",
       "      <td>p.N369Tfs*26</td>\n",
       "      <td>c.1098_1099insGACAC</td>\n",
       "      <td>BREAST</td>\n",
       "      <td>F</td>\n",
       "      <td>White</td>\n",
       "    </tr>\n",
       "    <tr>\n",
       "      <th>41</th>\n",
       "      <td>CDH1</td>\n",
       "      <td>p.L396fs</td>\n",
       "      <td>c.1188_1189GA&gt;G</td>\n",
       "      <td>BREAST</td>\n",
       "      <td>F</td>\n",
       "      <td>White</td>\n",
       "    </tr>\n",
       "    <tr>\n",
       "      <th>51</th>\n",
       "      <td>CDH1</td>\n",
       "      <td>p.D433fs</td>\n",
       "      <td>c.1298_1306ATGGCATTT&gt;AA</td>\n",
       "      <td>BREAST</td>\n",
       "      <td>F</td>\n",
       "      <td>White</td>\n",
       "    </tr>\n",
       "  </tbody>\n",
       "</table>\n",
       "</div>"
      ],
      "text/plain": [
       "     Gene Mutation Name   DNA Sequence Variation Tumor Site Gender  \\\n",
       "52   CDH1   p.A34Efs*23        c.100_104delGCCGA     BREAST      F   \n",
       "204  CDH1      p.F338fs          c.1013_1014TC>T    STOMACH      M   \n",
       "106  CDH1  p.N369Tfs*26      c.1098_1099insGACAC     BREAST      F   \n",
       "41   CDH1      p.L396fs          c.1188_1189GA>G     BREAST      F   \n",
       "51   CDH1      p.D433fs  c.1298_1306ATGGCATTT>AA     BREAST      F   \n",
       "\n",
       "                   Race  \n",
       "52                White  \n",
       "204  Unknown - Declined  \n",
       "106               White  \n",
       "41                White  \n",
       "51                White  "
      ]
     },
     "execution_count": 6,
     "metadata": {},
     "output_type": "execute_result"
    }
   ],
   "source": [
    "df2.head()"
   ]
  },
  {
   "cell_type": "markdown",
   "metadata": {},
   "source": [
    "### From the cleaned new dataframes, using regex, capture the different components that make-up the variants' p. and c. names"
   ]
  },
  {
   "cell_type": "code",
   "execution_count": 7,
   "metadata": {},
   "outputs": [
    {
     "name": "stdout",
     "output_type": "stream",
     "text": [
      "<class 'findercode.variants.SepGroups'>\n",
      "No. of variants found per Group (name components):\n",
      "CdnaFS: 50\n",
      "Cdna_snv: 118\n",
      "Cdnaspl: 9\n",
      "FSstop_pos: 50\n",
      "WTBsnv: 118\n",
      "WTBspl: 9\n",
      "c_fs2: 50\n",
      "c_splice3: 9\n",
      "codonFS: 50\n",
      "codon_snv: 118\n",
      "offset_pos: 9\n",
      "p_change1: 118\n",
      "p_fs2: 50\n",
      "raw_WTBFS: 50\n",
      "raw_vnt_BFS: 50\n",
      "vnt_AA: 118\n",
      "vnt_AAFS: 50\n",
      "vnt_Bsnv: 118\n",
      "vnt_Bspl: 9\n",
      "wtaa: 118\n",
      "wtaaFS: 50\n",
      "\n"
     ]
    }
   ],
   "source": [
    "s = get_groups(df1, df2, df3)\n",
    "print(s)"
   ]
  },
  {
   "cell_type": "markdown",
   "metadata": {},
   "source": [
    "#### Substitute value None for string None in vnt_AAFS"
   ]
  },
  {
   "cell_type": "code",
   "execution_count": 8,
   "metadata": {},
   "outputs": [
    {
     "name": "stdout",
     "output_type": "stream",
     "text": [
      "['E', 'None', 'T', 'None', 'None', 'None', 'None', 'None', 'S', 'C', 'None', 'K', 'None', 'None', 'None', 'None', 'Q', 'S', 'K', 'H', 'None', 'K', 'H', 'None', 'S', 'None', 'None', 'None', 'None', 'None', 'None', 'None', 'None', 'None', 'None', 'None', 'R', 'None', 'None', 'None', 'R', 'None', 'None', 'H', 'None', 'None', 'None', 'None', 'None', 'I']\n"
     ]
    }
   ],
   "source": [
    "s[\"vnt_AAFS\"] = ['None' if v is None else v for v in s[\"vnt_AAFS\"]]\n",
    "print(s[\"vnt_AAFS\"])"
   ]
  },
  {
   "cell_type": "markdown",
   "metadata": {},
   "source": [
    "### Extracting the translator from the module, translate one letter AA code to the three letter code\n",
    " * ex: translate A for Ala\n",
    " * Get WTAA and VAA"
   ]
  },
  {
   "cell_type": "code",
   "execution_count": 9,
   "metadata": {
    "collapsed": true
   },
   "outputs": [],
   "source": [
    "WTAA_FS = AA_translator(s[\"wtaaFS\"])\n",
    "vnt_AA_3codeFS = AA_translator(s[\"vnt_AAFS\"])\n",
    "WTAAsnv = AA_translator(s[\"wtaa\"])\n",
    "vnt_AA_3code = AA_translator(s[\"vnt_AA\"])\n",
    "\n",
    "\n",
    "# print(WTAA_FS)\n",
    "# print(vnt_AA_3codeFS)\n",
    "# print(WTAAsnv)\n",
    "# print(vnt_AA_3code)"
   ]
  },
  {
   "cell_type": "markdown",
   "metadata": {},
   "source": [
    "### Add \"fs\" string to the 3 letter code to start forming the full name"
   ]
  },
  {
   "cell_type": "code",
   "execution_count": 10,
   "metadata": {
    "collapsed": true
   },
   "outputs": [],
   "source": [
    "s[\"FSstop_pos\"]  # this is fs list\n",
    "vnt_AA_3codeFS\n",
    "\n",
    "vntAA3addFS = []\n",
    "if len(s[\"FSstop_pos\"]) == len(vnt_AA_3codeFS):\n",
    "    for ind in range(len(vnt_AA_3codeFS)):\n",
    "        if vnt_AA_3codeFS[ind] == 'None':\n",
    "            vntAA3addFS.append(s[\"FSstop_pos\"][ind])\n",
    "        else:\n",
    "            vntAA3addFS.append(vnt_AA_3codeFS[ind] + s[\"FSstop_pos\"][ind])\n",
    "# print(vntAA3addFS)"
   ]
  },
  {
   "cell_type": "markdown",
   "metadata": {},
   "source": [
    "### Substitute value None for empty string \n",
    "(This is just a clean up step for other functionality)"
   ]
  },
  {
   "cell_type": "code",
   "execution_count": 11,
   "metadata": {
    "collapsed": true
   },
   "outputs": [],
   "source": [
    "WTBFS = sub_nones_empty(s[\"raw_WTBFS\"])\n",
    "# print(WTBFS)\n",
    "\n",
    "vnt_BFS = sub_nones_empty(s[\"raw_vnt_BFS\"])\n",
    "# print(vnt_BFS)"
   ]
  },
  {
   "cell_type": "markdown",
   "metadata": {},
   "source": [
    "### Generate variants full name in compliance with HGVS nomenclature standards "
   ]
  },
  {
   "cell_type": "code",
   "execution_count": 12,
   "metadata": {},
   "outputs": [
    {
     "name": "stdout",
     "output_type": "stream",
     "text": [
      "Variant names' types:\n",
      "pfullname: 0\n",
      "pfullnameFS: 0\n",
      "snv_vnt_fullname: 0\n",
      "vnt_fullnameFS: 0\n",
      "\n"
     ]
    }
   ],
   "source": [
    "n = ConstFullName()\n",
    "print(n)"
   ]
  },
  {
   "cell_type": "markdown",
   "metadata": {},
   "source": [
    "#### Brian: \n",
    "I am sorry this function is here and not in the module. I couldn't figure out how to connect my different instances from different classes.\n",
    "Since they are just containers, they don't exists outside of the current occurrence, so I wasn't able to add them as variables or objects to the function. I'll investigate more.    "
   ]
  },
  {
   "cell_type": "code",
   "execution_count": 13,
   "metadata": {},
   "outputs": [],
   "source": [
    "def full_name(WTAAsnv, vnt_AA_3code, WTAA_FS, vntAA3addFS):\n",
    "    n = ConstFullName()\n",
    "    print(type(n))\n",
    "    \n",
    "    # get full Protein change name with 3 letter AA for snv variants\n",
    "    n[\"pfullname\"] = [\"(p.\" + WTAAsnv[ind] + s[\"codon_snv\"][ind] + vnt_AA_3code[ind] + \")\"  for ind in range(len(s[\"codon_snv\"]))]\n",
    "    #Create full snv name\n",
    "    n[\"snv_vnt_fullname\"] = [v[\"c_change\"][ind] + (\" \") + n[\"pfullname\"][ind] for ind in range(len(v[\"c_change\"]))]\n",
    "\n",
    "    # get full Protein change name with 3 letter AA for FS variants\n",
    "    n[\"pfullnameFS\"] = [\"(p.\" + WTAA_FS[ind] + s[\"codonFS\"][ind] + vntAA3addFS[ind] + \")\" for ind in range(len(s[\"codonFS\"]))]\n",
    "    #Create full FS name\n",
    "    n[\"vnt_fullnameFS\"] = [s[\"c_fs2\"][ind] + \" \" + n[\"pfullnameFS\"][ind] for ind in range(len(s[\"c_fs2\"]))]\n",
    "    return n"
   ]
  },
  {
   "cell_type": "code",
   "execution_count": 14,
   "metadata": {},
   "outputs": [
    {
     "name": "stdout",
     "output_type": "stream",
     "text": [
      "<class 'findercode.variants.ConstFullName'>\n",
      "['c.1003C>T (p.Arg335*)', 'c.1008G>C (p.Glu336Asp)', 'c.1018A>G (p.Thr340Ala)', 'c.1019C>T (p.Thr340Met)', 'c.1090A>T (p.Thr364Ser)', 'c.1093G>A (p.Val365Ile)', 'c.1108G>A (p.Asp370Asn)', 'c.1149G>C (p.Gln383His)', 'c.1162G>A (p.Glu388Lys)', 'c.1198G>A (p.Asp400Asn)', 'c.1204G>A (p.Asp402Asn)', 'c.1214A>G (p.Asn405Ser)', 'c.1225T>C (p.Trp409Arg)', 'c.1267T>C (p.Phe423Leu)', 'c.1298A>G (p.Asp433Gly)', 'c.1300G>C (p.Gly434Arg)', 'c.1315G>A (p.Ala439Thr)', 'c.1325T>C (p.Leu442Ser)', 'c.1360G>A (p.Val454Ile)', 'c.1394C>G (p.Ser465Cys)', 'c.1417G>A (p.Val473Ile)', 'c.1423G>A (p.Val475Met)', 'c.1454T>C (p.Ile485Thr)', 'c.1475G>C (p.Arg492Thr)', 'c.1524C>G (p.Tyr508*)', 'c.1534G>T (p.Glu512*)', 'c.1565C>T (p.Thr522Ile)', 'c.1578G>A (p.Trp526*)', 'c.1584C>G (p.Asp528Glu)', 'c.161G>A (p.Arg54Lys)', 'c.1769A>G (p.Asp590Gly)', 'c.1774G>A (p.Ala592Thr)', 'c.1792C>T (p.Arg598*)', 'c.1810G>T (p.Glu604*)', 'c.1853A>G (p.Asp618Gly)', 'c.1856T>G (p.Leu619Arg)', 'c.1865A>G (p.Asn622Ser)', 'c.1874C>T (p.Pro625Leu)', 'c.1876T>G (p.Phe626Val)', 'c.187C>T (p.Arg63*)', 'c.1901C>T (p.Ala634Val)', 'c.1942G>T (p.Glu648*)', 'c.2020A>T (p.Asn674Tyr)', 'c.2026G>A (p.Asp676Asn)', 'c.2095C>T (p.Gln699*)', 'c.2123C>T (p.Pro708Leu)', 'c.2135G>A (p.Gly712Glu)', 'c.2146G>T (p.Gly716*)', 'c.2179C>T (p.Leu727Phe)', 'c.2201G>C (p.Arg734Thr)', 'c.2207T>C (p.Val736Ala)', 'c.220C>T (p.Arg74*)', 'c.2228C>A (p.Pro743His)', 'c.225C>A (p.Phe75Leu)', 'c.2289G>T (p.Glu763Asp)', 'c.2293C>T (p.Gln765*)', 'c.2329G>A (p.Asp777Asn)', 'c.2332G>A (p.Ala778Thr)', 'c.2335C>T (p.Arg779Trp)', 'c.2350C>T (p.Arg784Cys)', 'c.2363C>T (p.Ala788Val)', 'c.2398C>T (p.Arg800Cys)', 'c.2422G>T (p.Gly808*)', 'c.2494G>A (p.Val832Met)', 'c.2509G>A (p.Gly837Arg)', 'c.2533C>G (p.Leu845Val)', 'c.2578G>A (p.Asp860Asn)', 'c.2590G>A (p.Glu864Lys)', 'c.2590G>T (p.Glu864*)', 'c.2593T>C (p.Trp865Arg)', 'c.2602C>T (p.Arg868Cys)', 'c.2630G>A (p.Gly877Glu)', 'c.2635G>A (p.Gly879Ser)', 'c.268C>T (p.Arg90Trp)', 'c.283C>T (p.Gln95*)', 'c.304G>A (p.Ala102Thr)', 'c.314C>T (p.Ser105Phe)', 'c.338A>C (p.Lys113Thr)', 'c.356T>C (p.Val119Ala)', 'c.361C>A (p.His121Asn)', 'c.389C>A (p.Ala130Asp)', 'c.416T>A (p.Leu139*)', 'c.466T>C (p.Trp156Arg)', 'c.515C>T (p.Pro172Leu)', 'c.537A>T (p.Lys179Asn)', 'c.539C>A (p.Ser180Tyr)', 'c.566T>G (p.Phe189Cys)', 'c.56C>T (p.Ser19Phe)', 'c.665G>A (p.Arg222Lys)', 'c.667G>A (p.Glu223Lys)', 'c.668A>C (p.Glu223Ala)', 'c.670C>A (p.Arg224Ser)', 'c.671G>A (p.Arg224His)', 'c.671G>T (p.Arg224Leu)', 'c.67C>T (p.Gln23*)', 'c.680C>T (p.Thr227Ile)', 'c.68A>G (p.Gln23Arg)', 'c.699C>G (p.His233Gln)', 'c.715G>A (p.Gly239Arg)', 'c.719A>G (p.Asn240Ser)', 'c.727G>A (p.Glu243Lys)', 'c.731A>G (p.Asp244Gly)', 'c.737T>G (p.Met246Arg)', 'c.751A>T (p.Thr251Ser)', 'c.767A>T (p.Asn256Ile)', 'c.769G>A (p.Asp257Asn)', 'c.769G>C (p.Asp257His)', 'c.76G>A (p.Glu26Lys)', 'c.779C>T (p.Pro260Leu)', 'c.793G>C (p.Glu265Gln)', 'c.794A>T (p.Glu265Val)', 'c.808T>G (p.Ser270Ala)', 'c.862G>A (p.Asp288Asn)', 'c.866C>T (p.Ala289Val)', 'c.884C>G (p.Thr295Ser)', 'c.8C>G (p.Pro3Arg)', 'c.916A>G (p.Ser306Gly)', 'c.970G>A (p.Gly324Arg)']\n",
      "['c.100_104delGCCGA (p.Ala34Glufs*23)', 'c.1013_1014TC>T (p.Phe338fs)', 'c.1098_1099insGACAC (p.Asn369Thrfs*26)', 'c.1188_1189GA>G (p.Leu396fs)', 'c.1298_1306ATGGCATTT>AA (p.Asp433fs)', 'c.1324_1326TTG>T (p.Leu442fs)', 'c.1382_1383CT>C (p.Pro461fs)', 'c.138_138G>GGA (p.Leu46fs)', 'c.1448delC (p.Ile485Serfs*37)', 'c.1482_1483insGT (p.Ser496Cysfs*27)', 'c.1573_1574AT>A (p.Ile525fs)', 'c.159_160insA (p.Arg54Lysfs*5)', 'c.164_165TG>T (p.Val55fs)', 'c.1701_1701T>TAC (p.Ala567fs)', 'c.1728_1729TG>T (p.Thr576fs)', 'c.1774_1775GC>G (p.Ala592fs)', 'c.1783_1784insCAGAACCT (p.Arg598Glnfs*18)', 'c.183_184insG (p.Arg63Serfs*31)', 'c.190_191insA (p.Arg65Lysfs*29)', 'c.1913_1914insGACCATTCAGTACAAC (p.Pro645Hisfs*23)', 'c.1946_1946C>CT (p.Ser649fs)', 'c.2037_2038insAAGTGACT (p.Thr680Lysfs*2)', 'c.2097delG (p.Gln699Hisfs*23)', 'c.216_216C>CA (p.Asp72fs)', 'c.2211delC (p.Glu739Serfs*31)', 'c.2226_2226G>GC (p.Leu742fs)', 'c.2298_2299CT>C (p.Asp766fs)', 'c.2315_2326TGCACAGGGGCC>T (p.Leu772fs)', 'c.2324_2326GCC>G (p.Gly775fs)', 'c.2373_2378CATGAG>C (p.Leu791fs)', 'c.2426_2427AT>A (p.Asn809fs)', 'c.2590_2598GAATGGGGC>G (p.Glu864fs)', 'c.356_356T>TG (p.Val119fs)', 'c.362_363AC>A (p.His121fs)', 'c.371_371G>GC (p.Arg124fs)', 'c.371_372GC>G (p.Arg124fs)', 'c.372delC (p.Pro126Argfs*89)', 'c.392_392C>CA (p.Ser131fs)', 'c.499_499G>GA (p.Glu167fs)', 'c.540_541CA>C (p.Ser180fs)', 'c.550_551delAA (p.Lys184Argfs*14)', 'c.555_566AGGCAAGGTTTT>A (p.Glu185fs)', 'c.592_592G>GAC (p.Asp198fs)', 'c.592_593insAC (p.Pro200Hisfs*16)', 'c.662_662A>AT (p.Asp221fs)', 'c.697_698insA (p.His233fs)', 'c.854_854C>CA (p.Thr285fs)', 'c.904_904T>TA (p.Tyr302fs)', 'c.939_940CA>C (p.Asp313fs)', 'c.943_944insAT (p.Met316Ilefs*41)']\n"
     ]
    }
   ],
   "source": [
    "n = full_name(WTAAsnv, vnt_AA_3code, WTAA_FS, vntAA3addFS)\n",
    "#print(n)\n",
    "#print(n[\"pfullname\"])\n",
    "print(n[\"snv_vnt_fullname\"])\n",
    "#print(n[\"pfullnameFS\"])\n",
    "print(n[\"vnt_fullnameFS\"])\n",
    "\n"
   ]
  },
  {
   "cell_type": "markdown",
   "metadata": {},
   "source": [
    "### ok, this is just a map of all the lists that we have generated; they contain all the different components of a variant name. \n",
    "(run the cell, it assigns the Gene name to its variable)"
   ]
  },
  {
   "cell_type": "code",
   "execution_count": 15,
   "metadata": {},
   "outputs": [
    {
     "data": {
      "text/plain": [
       "['+8', '+2', '+1', '-4', '+1', '+1', '+3', '-1', '-3']"
      ]
     },
     "execution_count": 15,
     "metadata": {},
     "output_type": "execute_result"
    }
   ],
   "source": [
    "# From df1 snv variants\n",
    "n[\"snv_vnt_fullname\"]\n",
    "Gene_snv = df1.Gene\n",
    "WTAAsnv\n",
    "s[\"codon_snv\"]\n",
    "vnt_AA_3code\n",
    "s[\"Cdna_snv\"]\n",
    "s[\"WTBsnv\"]\n",
    "s[\"vnt_Bsnv\"]\n",
    "\n",
    "# From df2 FS variants\n",
    "n[\"vnt_fullnameFS\"]\n",
    "Gene_FS = df2.Gene\n",
    "WTAA_FS\n",
    "s[\"codonFS\"]\n",
    "vnt_AA_3codeFS\n",
    "s[\"CdnaFS\"]\n",
    "WTBFS\n",
    "vnt_BFS\n",
    "\n",
    "\n",
    "# From df3 splice variables\n",
    "s[\"c_splice3\"]\n",
    "Gene_spl = df3.Gene\n",
    "s[\"Cdnaspl\"]\n",
    "s[\"WTBspl\"]\n",
    "s[\"vnt_Bspl\"]\n",
    "s[\"offset_pos\"]"
   ]
  },
  {
   "cell_type": "markdown",
   "metadata": {},
   "source": [
    "### The next three cells will generate three separate dataframes with all the separated components of a name. These dataframes correspond to the 3 different variant types that we deal with."
   ]
  },
  {
   "cell_type": "code",
   "execution_count": 16,
   "metadata": {},
   "outputs": [
    {
     "data": {
      "text/html": [
       "<div>\n",
       "<table border=\"1\" class=\"dataframe\">\n",
       "  <thead>\n",
       "    <tr style=\"text-align: right;\">\n",
       "      <th></th>\n",
       "      <th>Variant_Name</th>\n",
       "      <th>Gene_Name</th>\n",
       "      <th>Wildtype_Amino_Acid</th>\n",
       "      <th>Codon</th>\n",
       "      <th>Variant_Amino_Acid</th>\n",
       "      <th>Wildtype_Seq</th>\n",
       "      <th>Cdna_Position_Number</th>\n",
       "      <th>Variant_Seq</th>\n",
       "    </tr>\n",
       "  </thead>\n",
       "  <tbody>\n",
       "    <tr>\n",
       "      <th>0</th>\n",
       "      <td>c.1003C&gt;T (p.Arg335*)</td>\n",
       "      <td>CDH1</td>\n",
       "      <td>Arg</td>\n",
       "      <td>335</td>\n",
       "      <td>*</td>\n",
       "      <td>C</td>\n",
       "      <td>1003</td>\n",
       "      <td>T</td>\n",
       "    </tr>\n",
       "    <tr>\n",
       "      <th>1</th>\n",
       "      <td>c.1008G&gt;C (p.Glu336Asp)</td>\n",
       "      <td>CDH1</td>\n",
       "      <td>Glu</td>\n",
       "      <td>336</td>\n",
       "      <td>Asp</td>\n",
       "      <td>G</td>\n",
       "      <td>1008</td>\n",
       "      <td>C</td>\n",
       "    </tr>\n",
       "    <tr>\n",
       "      <th>2</th>\n",
       "      <td>c.1018A&gt;G (p.Thr340Ala)</td>\n",
       "      <td>CDH1</td>\n",
       "      <td>Thr</td>\n",
       "      <td>340</td>\n",
       "      <td>Ala</td>\n",
       "      <td>A</td>\n",
       "      <td>1018</td>\n",
       "      <td>G</td>\n",
       "    </tr>\n",
       "    <tr>\n",
       "      <th>3</th>\n",
       "      <td>c.1019C&gt;T (p.Thr340Met)</td>\n",
       "      <td>CDH1</td>\n",
       "      <td>Thr</td>\n",
       "      <td>340</td>\n",
       "      <td>Met</td>\n",
       "      <td>C</td>\n",
       "      <td>1019</td>\n",
       "      <td>T</td>\n",
       "    </tr>\n",
       "    <tr>\n",
       "      <th>4</th>\n",
       "      <td>c.1090A&gt;T (p.Thr364Ser)</td>\n",
       "      <td>CDH1</td>\n",
       "      <td>Thr</td>\n",
       "      <td>364</td>\n",
       "      <td>Ser</td>\n",
       "      <td>A</td>\n",
       "      <td>1090</td>\n",
       "      <td>T</td>\n",
       "    </tr>\n",
       "  </tbody>\n",
       "</table>\n",
       "</div>"
      ],
      "text/plain": [
       "              Variant_Name Gene_Name Wildtype_Amino_Acid Codon  \\\n",
       "0    c.1003C>T (p.Arg335*)      CDH1                 Arg   335   \n",
       "1  c.1008G>C (p.Glu336Asp)      CDH1                 Glu   336   \n",
       "2  c.1018A>G (p.Thr340Ala)      CDH1                 Thr   340   \n",
       "3  c.1019C>T (p.Thr340Met)      CDH1                 Thr   340   \n",
       "4  c.1090A>T (p.Thr364Ser)      CDH1                 Thr   364   \n",
       "\n",
       "  Variant_Amino_Acid Wildtype_Seq Cdna_Position_Number Variant_Seq  \n",
       "0                  *            C                 1003           T  \n",
       "1                Asp            G                 1008           C  \n",
       "2                Ala            A                 1018           G  \n",
       "3                Met            C                 1019           T  \n",
       "4                Ser            A                 1090           T  "
      ]
     },
     "execution_count": 16,
     "metadata": {},
     "output_type": "execute_result"
    }
   ],
   "source": [
    "snv_Table = pd.DataFrame(list(zip(n[\"snv_vnt_fullname\"], Gene_snv, WTAAsnv, s[\"codon_snv\"], vnt_AA_3code, s[\"WTBsnv\"], s[\"Cdna_snv\"], s[\"vnt_Bsnv\"])),\n",
    "                         columns=['Variant_Name', 'Gene_Name', 'Wildtype_Amino_Acid', 'Codon', \n",
    "                                  'Variant_Amino_Acid', 'Wildtype_Seq', 'Cdna_Position_Number', 'Variant_Seq'])\n",
    "snv_Table.head()"
   ]
  },
  {
   "cell_type": "code",
   "execution_count": 17,
   "metadata": {},
   "outputs": [
    {
     "data": {
      "text/html": [
       "<div>\n",
       "<table border=\"1\" class=\"dataframe\">\n",
       "  <thead>\n",
       "    <tr style=\"text-align: right;\">\n",
       "      <th></th>\n",
       "      <th>Variant_Name</th>\n",
       "      <th>Gene_Name</th>\n",
       "      <th>Wildtype_Amino_Acid</th>\n",
       "      <th>Codon</th>\n",
       "      <th>Variant_Amino_Acid</th>\n",
       "      <th>Wildtype_Seq</th>\n",
       "      <th>Cdna_Position_Number</th>\n",
       "      <th>Variant_Seq</th>\n",
       "    </tr>\n",
       "  </thead>\n",
       "  <tbody>\n",
       "    <tr>\n",
       "      <th>0</th>\n",
       "      <td>c.100_104delGCCGA (p.Ala34Glufs*23)</td>\n",
       "      <td>CDH1</td>\n",
       "      <td>Ala</td>\n",
       "      <td>34</td>\n",
       "      <td>Glu</td>\n",
       "      <td></td>\n",
       "      <td>100</td>\n",
       "      <td>GCCGA</td>\n",
       "    </tr>\n",
       "    <tr>\n",
       "      <th>1</th>\n",
       "      <td>c.1013_1014TC&gt;T (p.Phe338fs)</td>\n",
       "      <td>CDH1</td>\n",
       "      <td>Phe</td>\n",
       "      <td>338</td>\n",
       "      <td>None</td>\n",
       "      <td>TC</td>\n",
       "      <td>1013</td>\n",
       "      <td>T</td>\n",
       "    </tr>\n",
       "    <tr>\n",
       "      <th>2</th>\n",
       "      <td>c.1098_1099insGACAC (p.Asn369Thrfs*26)</td>\n",
       "      <td>CDH1</td>\n",
       "      <td>Asn</td>\n",
       "      <td>369</td>\n",
       "      <td>Thr</td>\n",
       "      <td></td>\n",
       "      <td>1098</td>\n",
       "      <td>GACAC</td>\n",
       "    </tr>\n",
       "    <tr>\n",
       "      <th>3</th>\n",
       "      <td>c.1188_1189GA&gt;G (p.Leu396fs)</td>\n",
       "      <td>CDH1</td>\n",
       "      <td>Leu</td>\n",
       "      <td>396</td>\n",
       "      <td>None</td>\n",
       "      <td>GA</td>\n",
       "      <td>1188</td>\n",
       "      <td>G</td>\n",
       "    </tr>\n",
       "    <tr>\n",
       "      <th>4</th>\n",
       "      <td>c.1298_1306ATGGCATTT&gt;AA (p.Asp433fs)</td>\n",
       "      <td>CDH1</td>\n",
       "      <td>Asp</td>\n",
       "      <td>433</td>\n",
       "      <td>None</td>\n",
       "      <td>ATGGCATTT</td>\n",
       "      <td>1298</td>\n",
       "      <td>AA</td>\n",
       "    </tr>\n",
       "  </tbody>\n",
       "</table>\n",
       "</div>"
      ],
      "text/plain": [
       "                             Variant_Name Gene_Name Wildtype_Amino_Acid Codon  \\\n",
       "0     c.100_104delGCCGA (p.Ala34Glufs*23)      CDH1                 Ala    34   \n",
       "1            c.1013_1014TC>T (p.Phe338fs)      CDH1                 Phe   338   \n",
       "2  c.1098_1099insGACAC (p.Asn369Thrfs*26)      CDH1                 Asn   369   \n",
       "3            c.1188_1189GA>G (p.Leu396fs)      CDH1                 Leu   396   \n",
       "4    c.1298_1306ATGGCATTT>AA (p.Asp433fs)      CDH1                 Asp   433   \n",
       "\n",
       "  Variant_Amino_Acid Wildtype_Seq Cdna_Position_Number Variant_Seq  \n",
       "0                Glu                               100       GCCGA  \n",
       "1               None           TC                 1013           T  \n",
       "2                Thr                              1098       GACAC  \n",
       "3               None           GA                 1188           G  \n",
       "4               None    ATGGCATTT                 1298          AA  "
      ]
     },
     "execution_count": 17,
     "metadata": {},
     "output_type": "execute_result"
    }
   ],
   "source": [
    "FS_Table = pd.DataFrame(list(zip(n[\"vnt_fullnameFS\"], Gene_FS, WTAA_FS, s[\"codonFS\"], vnt_AA_3codeFS, WTBFS, s[\"CdnaFS\"], vnt_BFS)),\n",
    "                        columns=['Variant_Name', 'Gene_Name', 'Wildtype_Amino_Acid', 'Codon', \n",
    "                                 'Variant_Amino_Acid', 'Wildtype_Seq', 'Cdna_Position_Number', 'Variant_Seq'])\n",
    "FS_Table.head()"
   ]
  },
  {
   "cell_type": "code",
   "execution_count": 18,
   "metadata": {},
   "outputs": [
    {
     "data": {
      "text/html": [
       "<div>\n",
       "<table border=\"1\" class=\"dataframe\">\n",
       "  <thead>\n",
       "    <tr style=\"text-align: right;\">\n",
       "      <th></th>\n",
       "      <th>Variant_Name</th>\n",
       "      <th>Gene_Name</th>\n",
       "      <th>Wildtype_Seq</th>\n",
       "      <th>Cdna_Position_Number</th>\n",
       "      <th>Variant_Seq</th>\n",
       "    </tr>\n",
       "  </thead>\n",
       "  <tbody>\n",
       "    <tr>\n",
       "      <th>0</th>\n",
       "      <td>c.1008+8G&gt;T</td>\n",
       "      <td>CDH1</td>\n",
       "      <td>G</td>\n",
       "      <td>1008</td>\n",
       "      <td>T</td>\n",
       "    </tr>\n",
       "    <tr>\n",
       "      <th>1</th>\n",
       "      <td>c.1137+2T&gt;A</td>\n",
       "      <td>CDH1</td>\n",
       "      <td>T</td>\n",
       "      <td>1137</td>\n",
       "      <td>A</td>\n",
       "    </tr>\n",
       "    <tr>\n",
       "      <th>2</th>\n",
       "      <td>c.1320+1G&gt;C</td>\n",
       "      <td>CDH1</td>\n",
       "      <td>G</td>\n",
       "      <td>1320</td>\n",
       "      <td>C</td>\n",
       "    </tr>\n",
       "    <tr>\n",
       "      <th>3</th>\n",
       "      <td>c.1321-4C&gt;G</td>\n",
       "      <td>CDH1</td>\n",
       "      <td>C</td>\n",
       "      <td>1321</td>\n",
       "      <td>G</td>\n",
       "    </tr>\n",
       "    <tr>\n",
       "      <th>4</th>\n",
       "      <td>c.1565+1G&gt;A</td>\n",
       "      <td>CDH1</td>\n",
       "      <td>G</td>\n",
       "      <td>1565</td>\n",
       "      <td>A</td>\n",
       "    </tr>\n",
       "  </tbody>\n",
       "</table>\n",
       "</div>"
      ],
      "text/plain": [
       "  Variant_Name Gene_Name Wildtype_Seq Cdna_Position_Number Variant_Seq\n",
       "0  c.1008+8G>T      CDH1            G                 1008           T\n",
       "1  c.1137+2T>A      CDH1            T                 1137           A\n",
       "2  c.1320+1G>C      CDH1            G                 1320           C\n",
       "3  c.1321-4C>G      CDH1            C                 1321           G\n",
       "4  c.1565+1G>A      CDH1            G                 1565           A"
      ]
     },
     "execution_count": 18,
     "metadata": {},
     "output_type": "execute_result"
    }
   ],
   "source": [
    "Splice_Table = pd.DataFrame(list(zip(s[\"c_splice3\"], Gene_spl, s[\"WTBspl\"], s[\"Cdnaspl\"], s[\"vnt_Bspl\"])),\n",
    "                            columns=['Variant_Name', 'Gene_Name', 'Wildtype_Seq', 'Cdna_Position_Number', \n",
    "                                     'Variant_Seq'])\n",
    "Splice_Table.head()"
   ]
  },
  {
   "cell_type": "markdown",
   "metadata": {},
   "source": [
    "### Here we will join the last three tables to generate the final dataframe with all the variant types, their full name and separated name components."
   ]
  },
  {
   "cell_type": "code",
   "execution_count": 19,
   "metadata": {},
   "outputs": [
    {
     "data": {
      "text/html": [
       "<div>\n",
       "<table border=\"1\" class=\"dataframe\">\n",
       "  <thead>\n",
       "    <tr style=\"text-align: right;\">\n",
       "      <th></th>\n",
       "      <th>Variant_Name</th>\n",
       "      <th>Gene_Name</th>\n",
       "      <th>Wildtype_Amino_Acid</th>\n",
       "      <th>Codon</th>\n",
       "      <th>Variant_Amino_Acid</th>\n",
       "      <th>Wildtype_Seq</th>\n",
       "      <th>Cdna_Position_Number</th>\n",
       "      <th>Variant_Seq</th>\n",
       "    </tr>\n",
       "  </thead>\n",
       "  <tbody>\n",
       "    <tr>\n",
       "      <th>0</th>\n",
       "      <td>c.1003C&gt;T (p.Arg335*)</td>\n",
       "      <td>CDH1</td>\n",
       "      <td>Arg</td>\n",
       "      <td>335</td>\n",
       "      <td>*</td>\n",
       "      <td>C</td>\n",
       "      <td>1003</td>\n",
       "      <td>T</td>\n",
       "    </tr>\n",
       "    <tr>\n",
       "      <th>1</th>\n",
       "      <td>c.1008G&gt;C (p.Glu336Asp)</td>\n",
       "      <td>CDH1</td>\n",
       "      <td>Glu</td>\n",
       "      <td>336</td>\n",
       "      <td>Asp</td>\n",
       "      <td>G</td>\n",
       "      <td>1008</td>\n",
       "      <td>C</td>\n",
       "    </tr>\n",
       "    <tr>\n",
       "      <th>2</th>\n",
       "      <td>c.1018A&gt;G (p.Thr340Ala)</td>\n",
       "      <td>CDH1</td>\n",
       "      <td>Thr</td>\n",
       "      <td>340</td>\n",
       "      <td>Ala</td>\n",
       "      <td>A</td>\n",
       "      <td>1018</td>\n",
       "      <td>G</td>\n",
       "    </tr>\n",
       "    <tr>\n",
       "      <th>3</th>\n",
       "      <td>c.1019C&gt;T (p.Thr340Met)</td>\n",
       "      <td>CDH1</td>\n",
       "      <td>Thr</td>\n",
       "      <td>340</td>\n",
       "      <td>Met</td>\n",
       "      <td>C</td>\n",
       "      <td>1019</td>\n",
       "      <td>T</td>\n",
       "    </tr>\n",
       "    <tr>\n",
       "      <th>4</th>\n",
       "      <td>c.1090A&gt;T (p.Thr364Ser)</td>\n",
       "      <td>CDH1</td>\n",
       "      <td>Thr</td>\n",
       "      <td>364</td>\n",
       "      <td>Ser</td>\n",
       "      <td>A</td>\n",
       "      <td>1090</td>\n",
       "      <td>T</td>\n",
       "    </tr>\n",
       "  </tbody>\n",
       "</table>\n",
       "</div>"
      ],
      "text/plain": [
       "              Variant_Name Gene_Name Wildtype_Amino_Acid Codon  \\\n",
       "0    c.1003C>T (p.Arg335*)      CDH1                 Arg   335   \n",
       "1  c.1008G>C (p.Glu336Asp)      CDH1                 Glu   336   \n",
       "2  c.1018A>G (p.Thr340Ala)      CDH1                 Thr   340   \n",
       "3  c.1019C>T (p.Thr340Met)      CDH1                 Thr   340   \n",
       "4  c.1090A>T (p.Thr364Ser)      CDH1                 Thr   364   \n",
       "\n",
       "  Variant_Amino_Acid Wildtype_Seq Cdna_Position_Number Variant_Seq  \n",
       "0                  *            C                 1003           T  \n",
       "1                Asp            G                 1008           C  \n",
       "2                Ala            A                 1018           G  \n",
       "3                Met            C                 1019           T  \n",
       "4                Ser            A                 1090           T  "
      ]
     },
     "execution_count": 19,
     "metadata": {},
     "output_type": "execute_result"
    }
   ],
   "source": [
    "joining_Tables = snv_Table.append([FS_Table, Splice_Table])\n",
    "Individual_values_Table = joining_Tables.reindex_axis(snv_Table.columns, axis=1).fillna(\"\")\n",
    "Individual_values_Table.head()"
   ]
  },
  {
   "cell_type": "markdown",
   "metadata": {},
   "source": [
    "### We are ready to write these into a database:\n",
    "   #### Connect to a sqlite3 database and create a table with our generated dataframe:"
   ]
  },
  {
   "cell_type": "code",
   "execution_count": 20,
   "metadata": {
    "collapsed": true
   },
   "outputs": [],
   "source": [
    "db_conn = sqlite3.connect(\":MEMORY:\")\n",
    "curs = db_conn.cursor()\n",
    "Individual_values_Table.to_sql(\n",
    "    \"Variant_Ref1\", db_conn, index=False, if_exists='replace')"
   ]
  },
  {
   "cell_type": "markdown",
   "metadata": {},
   "source": [
    "#### Query the table:"
   ]
  },
  {
   "cell_type": "code",
   "execution_count": 21,
   "metadata": {},
   "outputs": [
    {
     "data": {
      "text/html": [
       "<div>\n",
       "<table border=\"1\" class=\"dataframe\">\n",
       "  <thead>\n",
       "    <tr style=\"text-align: right;\">\n",
       "      <th></th>\n",
       "      <th>Variant_Name</th>\n",
       "      <th>Gene_Name</th>\n",
       "      <th>Wildtype_Amino_Acid</th>\n",
       "      <th>Codon</th>\n",
       "      <th>Variant_Amino_Acid</th>\n",
       "      <th>Wildtype_Seq</th>\n",
       "      <th>Cdna_Position_Number</th>\n",
       "      <th>Variant_Seq</th>\n",
       "    </tr>\n",
       "  </thead>\n",
       "  <tbody>\n",
       "    <tr>\n",
       "      <th>0</th>\n",
       "      <td>c.1003C&gt;T (p.Arg335*)</td>\n",
       "      <td>CDH1</td>\n",
       "      <td>Arg</td>\n",
       "      <td>335</td>\n",
       "      <td>*</td>\n",
       "      <td>C</td>\n",
       "      <td>1003</td>\n",
       "      <td>T</td>\n",
       "    </tr>\n",
       "    <tr>\n",
       "      <th>1</th>\n",
       "      <td>c.1008G&gt;C (p.Glu336Asp)</td>\n",
       "      <td>CDH1</td>\n",
       "      <td>Glu</td>\n",
       "      <td>336</td>\n",
       "      <td>Asp</td>\n",
       "      <td>G</td>\n",
       "      <td>1008</td>\n",
       "      <td>C</td>\n",
       "    </tr>\n",
       "    <tr>\n",
       "      <th>2</th>\n",
       "      <td>c.1018A&gt;G (p.Thr340Ala)</td>\n",
       "      <td>CDH1</td>\n",
       "      <td>Thr</td>\n",
       "      <td>340</td>\n",
       "      <td>Ala</td>\n",
       "      <td>A</td>\n",
       "      <td>1018</td>\n",
       "      <td>G</td>\n",
       "    </tr>\n",
       "    <tr>\n",
       "      <th>3</th>\n",
       "      <td>c.1019C&gt;T (p.Thr340Met)</td>\n",
       "      <td>CDH1</td>\n",
       "      <td>Thr</td>\n",
       "      <td>340</td>\n",
       "      <td>Met</td>\n",
       "      <td>C</td>\n",
       "      <td>1019</td>\n",
       "      <td>T</td>\n",
       "    </tr>\n",
       "    <tr>\n",
       "      <th>4</th>\n",
       "      <td>c.1090A&gt;T (p.Thr364Ser)</td>\n",
       "      <td>CDH1</td>\n",
       "      <td>Thr</td>\n",
       "      <td>364</td>\n",
       "      <td>Ser</td>\n",
       "      <td>A</td>\n",
       "      <td>1090</td>\n",
       "      <td>T</td>\n",
       "    </tr>\n",
       "  </tbody>\n",
       "</table>\n",
       "</div>"
      ],
      "text/plain": [
       "              Variant_Name Gene_Name Wildtype_Amino_Acid Codon  \\\n",
       "0    c.1003C>T (p.Arg335*)      CDH1                 Arg   335   \n",
       "1  c.1008G>C (p.Glu336Asp)      CDH1                 Glu   336   \n",
       "2  c.1018A>G (p.Thr340Ala)      CDH1                 Thr   340   \n",
       "3  c.1019C>T (p.Thr340Met)      CDH1                 Thr   340   \n",
       "4  c.1090A>T (p.Thr364Ser)      CDH1                 Thr   364   \n",
       "\n",
       "  Variant_Amino_Acid Wildtype_Seq Cdna_Position_Number Variant_Seq  \n",
       "0                  *            C                 1003           T  \n",
       "1                Asp            G                 1008           C  \n",
       "2                Ala            A                 1018           G  \n",
       "3                Met            C                 1019           T  \n",
       "4                Ser            A                 1090           T  "
      ]
     },
     "execution_count": 21,
     "metadata": {},
     "output_type": "execute_result"
    }
   ],
   "source": [
    "sql = \"SELECT * FROM Variant_Ref1\"\n",
    "df = pd.read_sql_query(sql, db_conn)\n",
    "df.head()"
   ]
  },
  {
   "cell_type": "code",
   "execution_count": 22,
   "metadata": {},
   "outputs": [
    {
     "data": {
      "text/plain": [
       "[('c.1018A>G (p.Thr340Ala)',), ('c.1019C>T (p.Thr340Met)',)]"
      ]
     },
     "execution_count": 22,
     "metadata": {},
     "output_type": "execute_result"
    }
   ],
   "source": [
    "curs.execute('SELECT Variant_Name FROM Variant_Ref1 WHERE Codon=\"340\"')\n",
    "curs.fetchall()"
   ]
  },
  {
   "cell_type": "markdown",
   "metadata": {},
   "source": [
    "#### close the connection to the database:"
   ]
  },
  {
   "cell_type": "code",
   "execution_count": 23,
   "metadata": {
    "collapsed": true
   },
   "outputs": [],
   "source": [
    "db_conn.close()"
   ]
  },
  {
   "cell_type": "markdown",
   "metadata": {},
   "source": [
    "### Let's create 3 new instances of our class Variant: instances are variants that we want on \"spot light\" to do more work with them at a later time. "
   ]
  },
  {
   "cell_type": "code",
   "execution_count": 24,
   "metadata": {},
   "outputs": [
    {
     "name": "stdout",
     "output_type": "stream",
     "text": [
      "The variant c.1090A>T (p.Thr364Ser), is located in the CDH1 gene\n",
      "The variant c.1003C>T (p.Arg335*), is located in the CDH1 gene\n",
      "The variant c.1018A>G (p.Thr340Ala), is located in the CDH1 gene\n",
      "There are 3 variants to work with.\n"
     ]
    }
   ],
   "source": [
    "a = Variant(vname=\"c.1090A>T (p.Thr364Ser)\", gene=\"CDH1\")\n",
    "print(a)\n",
    "c = Variant(vname=\"c.1003C>T (p.Arg335*)\", gene=\"CDH1\")\n",
    "print(c)\n",
    "d = Variant(vname=\"c.1018A>G (p.Thr340Ala)\", gene=\"CDH1\")\n",
    "print(d)\n",
    "d.how_many()"
   ]
  },
  {
   "cell_type": "code",
   "execution_count": 25,
   "metadata": {},
   "outputs": [
    {
     "name": "stdout",
     "output_type": "stream",
     "text": [
      "You are deleting the variant c.1003C>T (p.Arg335*)\n",
      "There are/is 2 more variant(s) to work with.\n"
     ]
    }
   ],
   "source": [
    "c.del_variant()"
   ]
  },
  {
   "cell_type": "markdown",
   "metadata": {},
   "source": [
    "### Create an instance of the VntCount class, which inherits from the Variant class. \n",
    "#### It tells you how many variants are in your final dataframe, and the number of variants on \"spot light\".  "
   ]
  },
  {
   "cell_type": "code",
   "execution_count": 26,
   "metadata": {},
   "outputs": [
    {
     "name": "stdout",
     "output_type": "stream",
     "text": [
      "There are 177 CDH1 variants in the Individual_values_Table dataframe.\n",
      "But you are only working with 3 variants from this table.\n"
     ]
    }
   ],
   "source": [
    "b = VntCount(vname=\"c.1090A>T (p.Thr364Ser)\", gene=\"CDH1\",\n",
    "             dataF=Individual_values_Table, dfname=\"Individual_values_Table\")\n",
    "print(b)"
   ]
  },
  {
   "cell_type": "markdown",
   "metadata": {},
   "source": [
    "### Generate a bar graph from your final dataframe:"
   ]
  },
  {
   "cell_type": "code",
   "execution_count": 27,
   "metadata": {},
   "outputs": [
    {
     "data": {
      "image/png": "[encoded data removed]",
      "text/plain": [
       "<matplotlib.figure.Figure at 0x7fa8b012f780>"
      ]
     },
     "metadata": {},
     "output_type": "display_data"
    },
    {
     "name": "stdout",
     "output_type": "stream",
     "text": [
      "Would you like to save the graph?: yes or no yes\n",
      "\n",
      " Ok it is saved!\n",
      "  Thank you for using Variant Finder. Bye!\n"
     ]
    }
   ],
   "source": [
    "graphing(Individual_values_Table)"
   ]
  },
  {
   "cell_type": "code",
   "execution_count": null,
   "metadata": {
    "collapsed": true
   },
   "outputs": [],
   "source": []
  }
 ],
 "metadata": {
  "kernelspec": {
   "display_name": "Python 3",
   "language": "python",
   "name": "python3"
  },
  "language_info": {
   "codemirror_mode": {
    "name": "ipython",
    "version": 3
   },
   "file_extension": ".py",
   "mimetype": "text/x-python",
   "name": "python",
   "nbconvert_exporter": "python",
   "pygments_lexer": "ipython3",
   "version": "3.5.2"
  }
 },
 "nbformat": 4,
 "nbformat_minor": 2
}
