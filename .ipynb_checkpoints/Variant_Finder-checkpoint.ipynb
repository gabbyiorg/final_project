{
 "cells": [
  {
   "cell_type": "code",
   "execution_count": 1,
   "metadata": {},
   "outputs": [],
   "source": [
    "import numpy as np\n",
    "import matplotlib.pyplot as plt; plt.rcdefaults()\n",
    "import os\n",
    "import pandas as pd\n",
    "import re\n",
    "import sqlite3\n",
    "import importlib\n",
    "from findercode.aatrans import AA_translator\n",
    "from findercode.filename import get_filename\n",
    "from findercode.filename import read_ini_table\n",
    "from findercode.subset import get_variant_data\n",
    "from findercode.subset import subset_dataframe\n",
    "from findercode.get_groups import get_groups\n",
    "from findercode.variants import GetVariants\n",
    "from findercode.variants import SepGroups\n",
    "from findercode.variants import Variant\n",
    "from findercode.variants import VntCount"
   ]
  },
  {
   "cell_type": "markdown",
   "metadata": {
    "collapsed": true
   },
   "source": [
    "For DEMO please use: example.xlsx"
   ]
  },
  {
   "cell_type": "code",
   "execution_count": 3,
   "metadata": {},
   "outputs": [
    {
     "name": "stdout",
     "output_type": "stream",
     "text": [
      "Please enter the name of the excel table of your interest in the format, Name.xlsx:  example.xlsx\n"
     ]
    },
    {
     "data": {
      "text/html": [
       "<div>\n",
       "<table border=\"1\" class=\"dataframe\">\n",
       "  <thead>\n",
       "    <tr style=\"text-align: right;\">\n",
       "      <th></th>\n",
       "      <th>Gene</th>\n",
       "      <th>Mutation Name</th>\n",
       "      <th>DNA Sequence Variation</th>\n",
       "      <th>Tumor Site</th>\n",
       "      <th>Gender</th>\n",
       "      <th>Race</th>\n",
       "    </tr>\n",
       "  </thead>\n",
       "  <tbody>\n",
       "    <tr>\n",
       "      <th>53</th>\n",
       "      <td>CDH1</td>\n",
       "      <td>p.R335*</td>\n",
       "      <td>c.1003C&gt;T</td>\n",
       "      <td>BREAST</td>\n",
       "      <td>F</td>\n",
       "      <td>White</td>\n",
       "    </tr>\n",
       "    <tr>\n",
       "      <th>143</th>\n",
       "      <td>CDH1</td>\n",
       "      <td></td>\n",
       "      <td>c.1008+8G&gt;T</td>\n",
       "      <td>Endometrium</td>\n",
       "      <td>F</td>\n",
       "      <td>White</td>\n",
       "    </tr>\n",
       "    <tr>\n",
       "      <th>122</th>\n",
       "      <td>CDH1</td>\n",
       "      <td>p.E336D</td>\n",
       "      <td>c.1008G&gt;C</td>\n",
       "      <td>BREAST</td>\n",
       "      <td>F</td>\n",
       "      <td>White</td>\n",
       "    </tr>\n",
       "    <tr>\n",
       "      <th>155</th>\n",
       "      <td>CDH1</td>\n",
       "      <td>p.S337_splice</td>\n",
       "      <td>c.1009_splice</td>\n",
       "      <td>LUNG</td>\n",
       "      <td>M</td>\n",
       "      <td>White</td>\n",
       "    </tr>\n",
       "    <tr>\n",
       "      <th>52</th>\n",
       "      <td>CDH1</td>\n",
       "      <td>p.A34Efs*23</td>\n",
       "      <td>c.100_104delGCCGA</td>\n",
       "      <td>BREAST</td>\n",
       "      <td>F</td>\n",
       "      <td>White</td>\n",
       "    </tr>\n",
       "  </tbody>\n",
       "</table>\n",
       "</div>"
      ],
      "text/plain": [
       "     Gene  Mutation Name DNA Sequence Variation   Tumor Site Gender   Race\n",
       "53   CDH1        p.R335*              c.1003C>T       BREAST      F  White\n",
       "143  CDH1                           c.1008+8G>T  Endometrium      F  White\n",
       "122  CDH1        p.E336D              c.1008G>C       BREAST      F  White\n",
       "155  CDH1  p.S337_splice          c.1009_splice         LUNG      M  White\n",
       "52   CDH1    p.A34Efs*23      c.100_104delGCCGA       BREAST      F  White"
      ]
     },
     "execution_count": 3,
     "metadata": {},
     "output_type": "execute_result"
    }
   ],
   "source": [
    "df = read_ini_table(table_name=get_filename())\n",
    "df.head()"
   ]
  },
  {
   "cell_type": "code",
   "execution_count": 4,
   "metadata": {},
   "outputs": [
    {
     "name": "stdout",
     "output_type": "stream",
     "text": [
      "No. of valid variants to work with:\n",
      "c_change: 0\n",
      "c_fs: 0\n",
      "c_splice: 0\n",
      "g_name: 0\n",
      "p_FS: 0\n",
      "p_change: 0\n",
      "\n"
     ]
    }
   ],
   "source": [
    "v = GetVariants()\n",
    "print(v)\n",
    "#type(v)"
   ]
  },
  {
   "cell_type": "code",
   "execution_count": 5,
   "metadata": {},
   "outputs": [
    {
     "name": "stdout",
     "output_type": "stream",
     "text": [
      "<class 'findercode.variants.GetVariants'>\n",
      "No. of valid variants to work with:\n",
      "c_change: 118\n",
      "c_fs: 52\n",
      "c_splice: 9\n",
      "g_name: 190\n",
      "p_FS: 50\n",
      "p_change: 119\n",
      "\n"
     ]
    }
   ],
   "source": [
    "v = get_variant_data(df)\n",
    "print(v)"
   ]
  },
  {
   "cell_type": "code",
   "execution_count": 45,
   "metadata": {},
   "outputs": [],
   "source": [
    "df1, df2, df3 = subset_dataframe(df, v)"
   ]
  },
  {
   "cell_type": "code",
   "execution_count": 46,
   "metadata": {},
   "outputs": [
    {
     "data": {
      "text/html": [
       "<div>\n",
       "<table border=\"1\" class=\"dataframe\">\n",
       "  <thead>\n",
       "    <tr style=\"text-align: right;\">\n",
       "      <th></th>\n",
       "      <th>Gene</th>\n",
       "      <th>Mutation Name</th>\n",
       "      <th>DNA Sequence Variation</th>\n",
       "      <th>Tumor Site</th>\n",
       "      <th>Gender</th>\n",
       "      <th>Race</th>\n",
       "    </tr>\n",
       "  </thead>\n",
       "  <tbody>\n",
       "    <tr>\n",
       "      <th>52</th>\n",
       "      <td>CDH1</td>\n",
       "      <td>p.A34Efs*23</td>\n",
       "      <td>c.100_104delGCCGA</td>\n",
       "      <td>BREAST</td>\n",
       "      <td>F</td>\n",
       "      <td>White</td>\n",
       "    </tr>\n",
       "    <tr>\n",
       "      <th>204</th>\n",
       "      <td>CDH1</td>\n",
       "      <td>p.F338fs</td>\n",
       "      <td>c.1013_1014TC&gt;T</td>\n",
       "      <td>STOMACH</td>\n",
       "      <td>M</td>\n",
       "      <td>Unknown - Declined</td>\n",
       "    </tr>\n",
       "    <tr>\n",
       "      <th>106</th>\n",
       "      <td>CDH1</td>\n",
       "      <td>p.N369Tfs*26</td>\n",
       "      <td>c.1098_1099insGACAC</td>\n",
       "      <td>BREAST</td>\n",
       "      <td>F</td>\n",
       "      <td>White</td>\n",
       "    </tr>\n",
       "    <tr>\n",
       "      <th>41</th>\n",
       "      <td>CDH1</td>\n",
       "      <td>p.L396fs</td>\n",
       "      <td>c.1188_1189GA&gt;G</td>\n",
       "      <td>BREAST</td>\n",
       "      <td>F</td>\n",
       "      <td>White</td>\n",
       "    </tr>\n",
       "    <tr>\n",
       "      <th>51</th>\n",
       "      <td>CDH1</td>\n",
       "      <td>p.D433fs</td>\n",
       "      <td>c.1298_1306ATGGCATTT&gt;AA</td>\n",
       "      <td>BREAST</td>\n",
       "      <td>F</td>\n",
       "      <td>White</td>\n",
       "    </tr>\n",
       "  </tbody>\n",
       "</table>\n",
       "</div>"
      ],
      "text/plain": [
       "     Gene Mutation Name   DNA Sequence Variation Tumor Site Gender  \\\n",
       "52   CDH1   p.A34Efs*23        c.100_104delGCCGA     BREAST      F   \n",
       "204  CDH1      p.F338fs          c.1013_1014TC>T    STOMACH      M   \n",
       "106  CDH1  p.N369Tfs*26      c.1098_1099insGACAC     BREAST      F   \n",
       "41   CDH1      p.L396fs          c.1188_1189GA>G     BREAST      F   \n",
       "51   CDH1      p.D433fs  c.1298_1306ATGGCATTT>AA     BREAST      F   \n",
       "\n",
       "                   Race  \n",
       "52                White  \n",
       "204  Unknown - Declined  \n",
       "106               White  \n",
       "41                White  \n",
       "51                White  "
      ]
     },
     "execution_count": 46,
     "metadata": {},
     "output_type": "execute_result"
    }
   ],
   "source": [
    "df2.head()"
   ]
  },
  {
   "cell_type": "code",
   "execution_count": 47,
   "metadata": {},
   "outputs": [
    {
     "name": "stdout",
     "output_type": "stream",
     "text": [
      "<class 'findercode.variants.SepGroups'>\n",
      "No. of variants found per Group:\n",
      "CdnaFS: 50\n",
      "Cdna_snv: 118\n",
      "Cdnaspl: 9\n",
      "FSstop_pos: 50\n",
      "WTBsnv: 118\n",
      "WTBspl: 9\n",
      "c_fs2: 50\n",
      "c_splice3: 9\n",
      "codonFS: 50\n",
      "codon_snv: 118\n",
      "offset_pos: 9\n",
      "p_change1: 118\n",
      "p_fs2: 50\n",
      "raw_WTBFS: 50\n",
      "raw_vnt_BFS: 50\n",
      "vnt_AA: 118\n",
      "vnt_AAFS: 50\n",
      "vnt_Bsnv: 118\n",
      "vnt_Bspl: 9\n",
      "wtaa: 118\n",
      "wtaaFS: 50\n",
      "\n"
     ]
    }
   ],
   "source": [
    "s = get_groups(df1, df2, df3)\n",
    "print(s)"
   ]
  },
  {
   "cell_type": "code",
   "execution_count": 11,
   "metadata": {},
   "outputs": [
    {
     "name": "stdout",
     "output_type": "stream",
     "text": [
      "['E', 'None', 'T', 'None', 'None', 'None', 'None', 'None', 'S', 'C', 'None', 'K', 'None', 'None', 'None', 'None', 'Q', 'S', 'K', 'H', 'None', 'K', 'H', 'None', 'S', 'None', 'None', 'None', 'None', 'None', 'None', 'None', 'None', 'None', 'None', 'None', 'R', 'None', 'None', 'None', 'R', 'None', 'None', 'H', 'None', 'None', 'None', 'None', 'None', 'I']\n"
     ]
    }
   ],
   "source": [
    "# Substitute value None for string None in vnt_AAFS\n",
    "s[\"vnt_AAFS\"] = ['None' if v is None else v for v in s[\"vnt_AAFS\"]]\n",
    "print(s[\"vnt_AAFS\"])"
   ]
  },
  {
   "cell_type": "code",
   "execution_count": 12,
   "metadata": {
    "collapsed": true
   },
   "outputs": [],
   "source": [
    "# extracting the translstor from the module\n",
    "# step 4: translate A for Ala\n",
    "# Get WTAA and VAA\n",
    "\n",
    "WTAA_FS = AA_translator(s[\"wtaaFS\"])\n",
    "vnt_AA_3codeFS = AA_translator(s[\"vnt_AAFS\"])\n",
    "WTAAsnv = AA_translator(s[\"wtaa\"])\n",
    "vnt_AA_3code = AA_translator(s[\"vnt_AA\"])\n",
    "\n",
    "\n",
    "# print(WTAA_FS)\n",
    "# print(vnt_AA_3codeFS)\n",
    "# print(WTAAsnv)\n",
    "# print(vnt_AA_3code)"
   ]
  },
  {
   "cell_type": "code",
   "execution_count": 13,
   "metadata": {},
   "outputs": [],
   "source": [
    "# ADD fs to the 3 letter for full name\n",
    "\n",
    "s[\"FSstop_pos\"]  # this is fs list\n",
    "vnt_AA_3codeFS\n",
    "\n",
    "vntAA3addFS = []\n",
    "if len(s[\"FSstop_pos\"]) == len(vnt_AA_3codeFS):\n",
    "    for ind in range(len(vnt_AA_3codeFS)):\n",
    "        if vnt_AA_3codeFS[ind] == 'None':\n",
    "            vntAA3addFS.append(s[\"FSstop_pos\"][ind])\n",
    "        else:\n",
    "            vntAA3addFS.append(vnt_AA_3codeFS[ind] + s[\"FSstop_pos\"][ind])\n",
    "# print(vntAA3addFS)"
   ]
  },
  {
   "cell_type": "code",
   "execution_count": 14,
   "metadata": {
    "collapsed": true
   },
   "outputs": [],
   "source": [
    "# Substitute value None for empty str\n",
    "def sub_nones_empty(vntlist):\n",
    "    \"\"\"This function substitutes the value None for an empty string\"\"\"\n",
    "    empstr = ['' if v is None else v for v in vntlist]\n",
    "    return empstr\n",
    "\n",
    "\n",
    "WTBFS = sub_nones_empty(s[\"raw_WTBFS\"])\n",
    "# print(WTBFS)\n",
    "\n",
    "vnt_BFS = sub_nones_empty(s[\"raw_vnt_BFS\"])\n",
    "# print(vnt_BFS)"
   ]
  },
  {
   "cell_type": "code",
   "execution_count": 15,
   "metadata": {
    "scrolled": true
   },
   "outputs": [],
   "source": [
    "# get full Protein change name with 3 letter AA\n",
    "#WTAAsnv + codon_snv + vnt_AA_3code\n",
    "\n",
    "pfullname = []\n",
    "if len(WTAAsnv) == len(s[\"codon_snv\"]):\n",
    "    for ind in range(len(s[\"codon_snv\"])):\n",
    "        pfullname.append(\n",
    "            \"(p.\" + WTAAsnv[ind] + s[\"codon_snv\"][ind] + vnt_AA_3code[ind] + \")\")\n",
    "else:\n",
    "    raise ValueError(\"lists must be equal in length\")\n",
    "# print(pfullname)"
   ]
  },
  {
   "cell_type": "code",
   "execution_count": 16,
   "metadata": {
    "collapsed": true
   },
   "outputs": [],
   "source": [
    "snv_vnt_fullname = []\n",
    "if len(pfullname) == len(v[\"c_change\"]):\n",
    "    for ind in range(len(v[\"c_change\"])):\n",
    "        snv_vnt_fullname.append(v[\"c_change\"][ind] + (\" \") + pfullname[ind])\n",
    "else:\n",
    "    raise ValueError(\"lists must be equal in length\")\n",
    "# print(snv_vnt_fullname)"
   ]
  },
  {
   "cell_type": "code",
   "execution_count": 17,
   "metadata": {
    "collapsed": true
   },
   "outputs": [],
   "source": [
    "pfullnameFS = []\n",
    "if len(WTAA_FS) == len(s[\"codonFS\"]):\n",
    "    for ind in range(len(s[\"codonFS\"])):\n",
    "        pfullnameFS.append(\n",
    "            \"(p.\" + WTAA_FS[ind] + s[\"codonFS\"][ind] + vntAA3addFS[ind] + \")\")\n",
    "else:\n",
    "    raise ValueError(\"lists must be equal in length\")\n",
    "# print(pfullnameFS)"
   ]
  },
  {
   "cell_type": "code",
   "execution_count": 18,
   "metadata": {
    "collapsed": true
   },
   "outputs": [],
   "source": [
    "vnt_fullnameFS = []\n",
    "if len(pfullnameFS) == len(s[\"c_fs2\"]):\n",
    "    for ind in range(len(s[\"c_fs2\"])):\n",
    "        vnt_fullnameFS.append(s[\"c_fs2\"][ind] + \" \" + pfullnameFS[ind])\n",
    "else:\n",
    "    raise ValueError(\"lists must be equal in length\")\n",
    "# print(vnt_fullnameFS)"
   ]
  },
  {
   "cell_type": "code",
   "execution_count": 19,
   "metadata": {},
   "outputs": [
    {
     "data": {
      "text/plain": [
       "['+8', '+2', '+1', '-4', '+1', '+1', '+3', '-1', '-3']"
      ]
     },
     "execution_count": 19,
     "metadata": {},
     "output_type": "execute_result"
    }
   ],
   "source": [
    "# From df1 snv variants\n",
    "snv_vnt_fullname\n",
    "Gene_snv = df1.Gene\n",
    "WTAAsnv\n",
    "s[\"codon_snv\"]\n",
    "vnt_AA_3code\n",
    "s[\"Cdna_snv\"]\n",
    "s[\"WTBsnv\"]\n",
    "s[\"vnt_Bsnv\"]\n",
    "\n",
    "# From df2 FS variants\n",
    "vnt_fullnameFS\n",
    "Gene_FS = df2.Gene\n",
    "WTAA_FS\n",
    "s[\"codonFS\"]\n",
    "vnt_AA_3codeFS\n",
    "s[\"CdnaFS\"]\n",
    "WTBFS\n",
    "vnt_BFS\n",
    "\n",
    "\n",
    "# From df3 splice variables\n",
    "s[\"c_splice3\"]\n",
    "Gene_spl = df3.Gene\n",
    "s[\"Cdnaspl\"]\n",
    "s[\"WTBspl\"]\n",
    "s[\"vnt_Bspl\"]\n",
    "s[\"offset_pos\"]"
   ]
  },
  {
   "cell_type": "code",
   "execution_count": 20,
   "metadata": {},
   "outputs": [
    {
     "data": {
      "text/html": [
       "<div>\n",
       "<table border=\"1\" class=\"dataframe\">\n",
       "  <thead>\n",
       "    <tr style=\"text-align: right;\">\n",
       "      <th></th>\n",
       "      <th>Variant_Name</th>\n",
       "      <th>Gene_Name</th>\n",
       "      <th>Wildtype_Amino_Acid</th>\n",
       "      <th>Codon</th>\n",
       "      <th>Variant_Amino_Acid</th>\n",
       "      <th>Wildtype_Seq</th>\n",
       "      <th>Cdna_Position_Number</th>\n",
       "      <th>Variant_Seq</th>\n",
       "    </tr>\n",
       "  </thead>\n",
       "  <tbody>\n",
       "    <tr>\n",
       "      <th>0</th>\n",
       "      <td>c.1003C&gt;T (p.Arg335*)</td>\n",
       "      <td>CDH1</td>\n",
       "      <td>Arg</td>\n",
       "      <td>335</td>\n",
       "      <td>*</td>\n",
       "      <td>C</td>\n",
       "      <td>1003</td>\n",
       "      <td>T</td>\n",
       "    </tr>\n",
       "    <tr>\n",
       "      <th>1</th>\n",
       "      <td>c.1008G&gt;C (p.Glu336Asp)</td>\n",
       "      <td>CDH1</td>\n",
       "      <td>Glu</td>\n",
       "      <td>336</td>\n",
       "      <td>Asp</td>\n",
       "      <td>G</td>\n",
       "      <td>1008</td>\n",
       "      <td>C</td>\n",
       "    </tr>\n",
       "    <tr>\n",
       "      <th>2</th>\n",
       "      <td>c.1018A&gt;G (p.Thr340Ala)</td>\n",
       "      <td>CDH1</td>\n",
       "      <td>Thr</td>\n",
       "      <td>340</td>\n",
       "      <td>Ala</td>\n",
       "      <td>A</td>\n",
       "      <td>1018</td>\n",
       "      <td>G</td>\n",
       "    </tr>\n",
       "    <tr>\n",
       "      <th>3</th>\n",
       "      <td>c.1019C&gt;T (p.Thr340Met)</td>\n",
       "      <td>CDH1</td>\n",
       "      <td>Thr</td>\n",
       "      <td>340</td>\n",
       "      <td>Met</td>\n",
       "      <td>C</td>\n",
       "      <td>1019</td>\n",
       "      <td>T</td>\n",
       "    </tr>\n",
       "    <tr>\n",
       "      <th>4</th>\n",
       "      <td>c.1090A&gt;T (p.Thr364Ser)</td>\n",
       "      <td>CDH1</td>\n",
       "      <td>Thr</td>\n",
       "      <td>364</td>\n",
       "      <td>Ser</td>\n",
       "      <td>A</td>\n",
       "      <td>1090</td>\n",
       "      <td>T</td>\n",
       "    </tr>\n",
       "  </tbody>\n",
       "</table>\n",
       "</div>"
      ],
      "text/plain": [
       "              Variant_Name Gene_Name Wildtype_Amino_Acid Codon  \\\n",
       "0    c.1003C>T (p.Arg335*)      CDH1                 Arg   335   \n",
       "1  c.1008G>C (p.Glu336Asp)      CDH1                 Glu   336   \n",
       "2  c.1018A>G (p.Thr340Ala)      CDH1                 Thr   340   \n",
       "3  c.1019C>T (p.Thr340Met)      CDH1                 Thr   340   \n",
       "4  c.1090A>T (p.Thr364Ser)      CDH1                 Thr   364   \n",
       "\n",
       "  Variant_Amino_Acid Wildtype_Seq Cdna_Position_Number Variant_Seq  \n",
       "0                  *            C                 1003           T  \n",
       "1                Asp            G                 1008           C  \n",
       "2                Ala            A                 1018           G  \n",
       "3                Met            C                 1019           T  \n",
       "4                Ser            A                 1090           T  "
      ]
     },
     "execution_count": 20,
     "metadata": {},
     "output_type": "execute_result"
    }
   ],
   "source": [
    "snv_Table = pd.DataFrame(list(zip(snv_vnt_fullname, Gene_snv, WTAAsnv, s[\"codon_snv\"], vnt_AA_3code, s[\"WTBsnv\"], s[\"Cdna_snv\"], s[\"vnt_Bsnv\"])),\n",
    "                         columns=['Variant_Name', 'Gene_Name', 'Wildtype_Amino_Acid', 'Codon', \n",
    "                                  'Variant_Amino_Acid', 'Wildtype_Seq', 'Cdna_Position_Number', 'Variant_Seq'])\n",
    "snv_Table.head()"
   ]
  },
  {
   "cell_type": "code",
   "execution_count": 21,
   "metadata": {},
   "outputs": [
    {
     "data": {
      "text/html": [
       "<div>\n",
       "<table border=\"1\" class=\"dataframe\">\n",
       "  <thead>\n",
       "    <tr style=\"text-align: right;\">\n",
       "      <th></th>\n",
       "      <th>Variant_Name</th>\n",
       "      <th>Gene_Name</th>\n",
       "      <th>Wildtype_Amino_Acid</th>\n",
       "      <th>Codon</th>\n",
       "      <th>Variant_Amino_Acid</th>\n",
       "      <th>Wildtype_Seq</th>\n",
       "      <th>Cdna_Position_Number</th>\n",
       "      <th>Variant_Seq</th>\n",
       "    </tr>\n",
       "  </thead>\n",
       "  <tbody>\n",
       "    <tr>\n",
       "      <th>0</th>\n",
       "      <td>c.100_104delGCCGA (p.Ala34Glufs*23)</td>\n",
       "      <td>CDH1</td>\n",
       "      <td>Ala</td>\n",
       "      <td>34</td>\n",
       "      <td>Glu</td>\n",
       "      <td></td>\n",
       "      <td>100</td>\n",
       "      <td>GCCGA</td>\n",
       "    </tr>\n",
       "    <tr>\n",
       "      <th>1</th>\n",
       "      <td>c.1013_1014TC&gt;T (p.Phe338fs)</td>\n",
       "      <td>CDH1</td>\n",
       "      <td>Phe</td>\n",
       "      <td>338</td>\n",
       "      <td>None</td>\n",
       "      <td>TC</td>\n",
       "      <td>1013</td>\n",
       "      <td>T</td>\n",
       "    </tr>\n",
       "    <tr>\n",
       "      <th>2</th>\n",
       "      <td>c.1098_1099insGACAC (p.Asn369Thrfs*26)</td>\n",
       "      <td>CDH1</td>\n",
       "      <td>Asn</td>\n",
       "      <td>369</td>\n",
       "      <td>Thr</td>\n",
       "      <td></td>\n",
       "      <td>1098</td>\n",
       "      <td>GACAC</td>\n",
       "    </tr>\n",
       "    <tr>\n",
       "      <th>3</th>\n",
       "      <td>c.1188_1189GA&gt;G (p.Leu396fs)</td>\n",
       "      <td>CDH1</td>\n",
       "      <td>Leu</td>\n",
       "      <td>396</td>\n",
       "      <td>None</td>\n",
       "      <td>GA</td>\n",
       "      <td>1188</td>\n",
       "      <td>G</td>\n",
       "    </tr>\n",
       "    <tr>\n",
       "      <th>4</th>\n",
       "      <td>c.1298_1306ATGGCATTT&gt;AA (p.Asp433fs)</td>\n",
       "      <td>CDH1</td>\n",
       "      <td>Asp</td>\n",
       "      <td>433</td>\n",
       "      <td>None</td>\n",
       "      <td>ATGGCATTT</td>\n",
       "      <td>1298</td>\n",
       "      <td>AA</td>\n",
       "    </tr>\n",
       "  </tbody>\n",
       "</table>\n",
       "</div>"
      ],
      "text/plain": [
       "                             Variant_Name Gene_Name Wildtype_Amino_Acid Codon  \\\n",
       "0     c.100_104delGCCGA (p.Ala34Glufs*23)      CDH1                 Ala    34   \n",
       "1            c.1013_1014TC>T (p.Phe338fs)      CDH1                 Phe   338   \n",
       "2  c.1098_1099insGACAC (p.Asn369Thrfs*26)      CDH1                 Asn   369   \n",
       "3            c.1188_1189GA>G (p.Leu396fs)      CDH1                 Leu   396   \n",
       "4    c.1298_1306ATGGCATTT>AA (p.Asp433fs)      CDH1                 Asp   433   \n",
       "\n",
       "  Variant_Amino_Acid Wildtype_Seq Cdna_Position_Number Variant_Seq  \n",
       "0                Glu                               100       GCCGA  \n",
       "1               None           TC                 1013           T  \n",
       "2                Thr                              1098       GACAC  \n",
       "3               None           GA                 1188           G  \n",
       "4               None    ATGGCATTT                 1298          AA  "
      ]
     },
     "execution_count": 21,
     "metadata": {},
     "output_type": "execute_result"
    }
   ],
   "source": [
    "FS_Table = pd.DataFrame(list(zip(vnt_fullnameFS, Gene_FS, WTAA_FS, s[\"codonFS\"], vnt_AA_3codeFS, WTBFS, s[\"CdnaFS\"], vnt_BFS)),\n",
    "                        columns=['Variant_Name', 'Gene_Name', 'Wildtype_Amino_Acid', 'Codon', \n",
    "                                 'Variant_Amino_Acid', 'Wildtype_Seq', 'Cdna_Position_Number', 'Variant_Seq'])\n",
    "FS_Table.head()"
   ]
  },
  {
   "cell_type": "code",
   "execution_count": 22,
   "metadata": {},
   "outputs": [
    {
     "data": {
      "text/html": [
       "<div>\n",
       "<table border=\"1\" class=\"dataframe\">\n",
       "  <thead>\n",
       "    <tr style=\"text-align: right;\">\n",
       "      <th></th>\n",
       "      <th>Variant_Name</th>\n",
       "      <th>Gene_Name</th>\n",
       "      <th>Wildtype_Seq</th>\n",
       "      <th>Cdna_Position_Number</th>\n",
       "      <th>Variant_Seq</th>\n",
       "    </tr>\n",
       "  </thead>\n",
       "  <tbody>\n",
       "    <tr>\n",
       "      <th>0</th>\n",
       "      <td>c.1008+8G&gt;T</td>\n",
       "      <td>CDH1</td>\n",
       "      <td>G</td>\n",
       "      <td>1008</td>\n",
       "      <td>T</td>\n",
       "    </tr>\n",
       "    <tr>\n",
       "      <th>1</th>\n",
       "      <td>c.1137+2T&gt;A</td>\n",
       "      <td>CDH1</td>\n",
       "      <td>T</td>\n",
       "      <td>1137</td>\n",
       "      <td>A</td>\n",
       "    </tr>\n",
       "    <tr>\n",
       "      <th>2</th>\n",
       "      <td>c.1320+1G&gt;C</td>\n",
       "      <td>CDH1</td>\n",
       "      <td>G</td>\n",
       "      <td>1320</td>\n",
       "      <td>C</td>\n",
       "    </tr>\n",
       "    <tr>\n",
       "      <th>3</th>\n",
       "      <td>c.1321-4C&gt;G</td>\n",
       "      <td>CDH1</td>\n",
       "      <td>C</td>\n",
       "      <td>1321</td>\n",
       "      <td>G</td>\n",
       "    </tr>\n",
       "    <tr>\n",
       "      <th>4</th>\n",
       "      <td>c.1565+1G&gt;A</td>\n",
       "      <td>CDH1</td>\n",
       "      <td>G</td>\n",
       "      <td>1565</td>\n",
       "      <td>A</td>\n",
       "    </tr>\n",
       "  </tbody>\n",
       "</table>\n",
       "</div>"
      ],
      "text/plain": [
       "  Variant_Name Gene_Name Wildtype_Seq Cdna_Position_Number Variant_Seq\n",
       "0  c.1008+8G>T      CDH1            G                 1008           T\n",
       "1  c.1137+2T>A      CDH1            T                 1137           A\n",
       "2  c.1320+1G>C      CDH1            G                 1320           C\n",
       "3  c.1321-4C>G      CDH1            C                 1321           G\n",
       "4  c.1565+1G>A      CDH1            G                 1565           A"
      ]
     },
     "execution_count": 22,
     "metadata": {},
     "output_type": "execute_result"
    }
   ],
   "source": [
    "Splice_Table = pd.DataFrame(list(zip(s[\"c_splice3\"], Gene_spl, s[\"WTBspl\"], s[\"Cdnaspl\"], s[\"vnt_Bspl\"])),\n",
    "                            columns=['Variant_Name', 'Gene_Name', 'Wildtype_Seq', 'Cdna_Position_Number', \n",
    "                                     'Variant_Seq'])\n",
    "Splice_Table.head()"
   ]
  },
  {
   "cell_type": "code",
   "execution_count": 23,
   "metadata": {},
   "outputs": [
    {
     "data": {
      "text/html": [
       "<div>\n",
       "<table border=\"1\" class=\"dataframe\">\n",
       "  <thead>\n",
       "    <tr style=\"text-align: right;\">\n",
       "      <th></th>\n",
       "      <th>Variant_Name</th>\n",
       "      <th>Gene_Name</th>\n",
       "      <th>Wildtype_Amino_Acid</th>\n",
       "      <th>Codon</th>\n",
       "      <th>Variant_Amino_Acid</th>\n",
       "      <th>Wildtype_Seq</th>\n",
       "      <th>Cdna_Position_Number</th>\n",
       "      <th>Variant_Seq</th>\n",
       "    </tr>\n",
       "  </thead>\n",
       "  <tbody>\n",
       "    <tr>\n",
       "      <th>0</th>\n",
       "      <td>c.1003C&gt;T (p.Arg335*)</td>\n",
       "      <td>CDH1</td>\n",
       "      <td>Arg</td>\n",
       "      <td>335</td>\n",
       "      <td>*</td>\n",
       "      <td>C</td>\n",
       "      <td>1003</td>\n",
       "      <td>T</td>\n",
       "    </tr>\n",
       "    <tr>\n",
       "      <th>1</th>\n",
       "      <td>c.1008G&gt;C (p.Glu336Asp)</td>\n",
       "      <td>CDH1</td>\n",
       "      <td>Glu</td>\n",
       "      <td>336</td>\n",
       "      <td>Asp</td>\n",
       "      <td>G</td>\n",
       "      <td>1008</td>\n",
       "      <td>C</td>\n",
       "    </tr>\n",
       "    <tr>\n",
       "      <th>2</th>\n",
       "      <td>c.1018A&gt;G (p.Thr340Ala)</td>\n",
       "      <td>CDH1</td>\n",
       "      <td>Thr</td>\n",
       "      <td>340</td>\n",
       "      <td>Ala</td>\n",
       "      <td>A</td>\n",
       "      <td>1018</td>\n",
       "      <td>G</td>\n",
       "    </tr>\n",
       "    <tr>\n",
       "      <th>3</th>\n",
       "      <td>c.1019C&gt;T (p.Thr340Met)</td>\n",
       "      <td>CDH1</td>\n",
       "      <td>Thr</td>\n",
       "      <td>340</td>\n",
       "      <td>Met</td>\n",
       "      <td>C</td>\n",
       "      <td>1019</td>\n",
       "      <td>T</td>\n",
       "    </tr>\n",
       "    <tr>\n",
       "      <th>4</th>\n",
       "      <td>c.1090A&gt;T (p.Thr364Ser)</td>\n",
       "      <td>CDH1</td>\n",
       "      <td>Thr</td>\n",
       "      <td>364</td>\n",
       "      <td>Ser</td>\n",
       "      <td>A</td>\n",
       "      <td>1090</td>\n",
       "      <td>T</td>\n",
       "    </tr>\n",
       "  </tbody>\n",
       "</table>\n",
       "</div>"
      ],
      "text/plain": [
       "              Variant_Name Gene_Name Wildtype_Amino_Acid Codon  \\\n",
       "0    c.1003C>T (p.Arg335*)      CDH1                 Arg   335   \n",
       "1  c.1008G>C (p.Glu336Asp)      CDH1                 Glu   336   \n",
       "2  c.1018A>G (p.Thr340Ala)      CDH1                 Thr   340   \n",
       "3  c.1019C>T (p.Thr340Met)      CDH1                 Thr   340   \n",
       "4  c.1090A>T (p.Thr364Ser)      CDH1                 Thr   364   \n",
       "\n",
       "  Variant_Amino_Acid Wildtype_Seq Cdna_Position_Number Variant_Seq  \n",
       "0                  *            C                 1003           T  \n",
       "1                Asp            G                 1008           C  \n",
       "2                Ala            A                 1018           G  \n",
       "3                Met            C                 1019           T  \n",
       "4                Ser            A                 1090           T  "
      ]
     },
     "execution_count": 23,
     "metadata": {},
     "output_type": "execute_result"
    }
   ],
   "source": [
    "joining_Tables = snv_Table.append([FS_Table, Splice_Table])\n",
    "Individual_values_Table = joining_Tables.reindex_axis(snv_Table.columns, axis=1).fillna(\"\")\n",
    "Individual_values_Table.head()"
   ]
  },
  {
   "cell_type": "code",
   "execution_count": 24,
   "metadata": {
    "collapsed": true
   },
   "outputs": [],
   "source": [
    "db_conn = sqlite3.connect(\":MEMORY:\")\n",
    "curs = db_conn.cursor()\n",
    "Individual_values_Table.to_sql(\n",
    "    \"Variant_Ref1\", db_conn, index=False, if_exists='replace')"
   ]
  },
  {
   "cell_type": "code",
   "execution_count": 25,
   "metadata": {},
   "outputs": [
    {
     "data": {
      "text/html": [
       "<div>\n",
       "<table border=\"1\" class=\"dataframe\">\n",
       "  <thead>\n",
       "    <tr style=\"text-align: right;\">\n",
       "      <th></th>\n",
       "      <th>Variant_Name</th>\n",
       "      <th>Gene_Name</th>\n",
       "      <th>Wildtype_Amino_Acid</th>\n",
       "      <th>Codon</th>\n",
       "      <th>Variant_Amino_Acid</th>\n",
       "      <th>Wildtype_Seq</th>\n",
       "      <th>Cdna_Position_Number</th>\n",
       "      <th>Variant_Seq</th>\n",
       "    </tr>\n",
       "  </thead>\n",
       "  <tbody>\n",
       "    <tr>\n",
       "      <th>0</th>\n",
       "      <td>c.1003C&gt;T (p.Arg335*)</td>\n",
       "      <td>CDH1</td>\n",
       "      <td>Arg</td>\n",
       "      <td>335</td>\n",
       "      <td>*</td>\n",
       "      <td>C</td>\n",
       "      <td>1003</td>\n",
       "      <td>T</td>\n",
       "    </tr>\n",
       "    <tr>\n",
       "      <th>1</th>\n",
       "      <td>c.1008G&gt;C (p.Glu336Asp)</td>\n",
       "      <td>CDH1</td>\n",
       "      <td>Glu</td>\n",
       "      <td>336</td>\n",
       "      <td>Asp</td>\n",
       "      <td>G</td>\n",
       "      <td>1008</td>\n",
       "      <td>C</td>\n",
       "    </tr>\n",
       "    <tr>\n",
       "      <th>2</th>\n",
       "      <td>c.1018A&gt;G (p.Thr340Ala)</td>\n",
       "      <td>CDH1</td>\n",
       "      <td>Thr</td>\n",
       "      <td>340</td>\n",
       "      <td>Ala</td>\n",
       "      <td>A</td>\n",
       "      <td>1018</td>\n",
       "      <td>G</td>\n",
       "    </tr>\n",
       "    <tr>\n",
       "      <th>3</th>\n",
       "      <td>c.1019C&gt;T (p.Thr340Met)</td>\n",
       "      <td>CDH1</td>\n",
       "      <td>Thr</td>\n",
       "      <td>340</td>\n",
       "      <td>Met</td>\n",
       "      <td>C</td>\n",
       "      <td>1019</td>\n",
       "      <td>T</td>\n",
       "    </tr>\n",
       "    <tr>\n",
       "      <th>4</th>\n",
       "      <td>c.1090A&gt;T (p.Thr364Ser)</td>\n",
       "      <td>CDH1</td>\n",
       "      <td>Thr</td>\n",
       "      <td>364</td>\n",
       "      <td>Ser</td>\n",
       "      <td>A</td>\n",
       "      <td>1090</td>\n",
       "      <td>T</td>\n",
       "    </tr>\n",
       "  </tbody>\n",
       "</table>\n",
       "</div>"
      ],
      "text/plain": [
       "              Variant_Name Gene_Name Wildtype_Amino_Acid Codon  \\\n",
       "0    c.1003C>T (p.Arg335*)      CDH1                 Arg   335   \n",
       "1  c.1008G>C (p.Glu336Asp)      CDH1                 Glu   336   \n",
       "2  c.1018A>G (p.Thr340Ala)      CDH1                 Thr   340   \n",
       "3  c.1019C>T (p.Thr340Met)      CDH1                 Thr   340   \n",
       "4  c.1090A>T (p.Thr364Ser)      CDH1                 Thr   364   \n",
       "\n",
       "  Variant_Amino_Acid Wildtype_Seq Cdna_Position_Number Variant_Seq  \n",
       "0                  *            C                 1003           T  \n",
       "1                Asp            G                 1008           C  \n",
       "2                Ala            A                 1018           G  \n",
       "3                Met            C                 1019           T  \n",
       "4                Ser            A                 1090           T  "
      ]
     },
     "execution_count": 25,
     "metadata": {},
     "output_type": "execute_result"
    }
   ],
   "source": [
    "sql = \"SELECT * FROM Variant_Ref1\"\n",
    "df = pd.read_sql_query(sql, db_conn)\n",
    "df.head()"
   ]
  },
  {
   "cell_type": "code",
   "execution_count": 26,
   "metadata": {},
   "outputs": [
    {
     "data": {
      "text/plain": [
       "[('c.1018A>G (p.Thr340Ala)',), ('c.1019C>T (p.Thr340Met)',)]"
      ]
     },
     "execution_count": 26,
     "metadata": {},
     "output_type": "execute_result"
    }
   ],
   "source": [
    "curs.execute('SELECT Variant_Name FROM Variant_Ref1 WHERE Codon=\"340\"')\n",
    "curs.fetchall()"
   ]
  },
  {
   "cell_type": "code",
   "execution_count": 27,
   "metadata": {
    "collapsed": true
   },
   "outputs": [],
   "source": [
    "db_conn.close()"
   ]
  },
  {
   "cell_type": "code",
   "execution_count": 28,
   "metadata": {},
   "outputs": [
    {
     "name": "stdout",
     "output_type": "stream",
     "text": [
      "The variant c.1090A>T (p.Thr364Ser), is located in the CDH1 gene\n",
      "The variant c.1003C>T (p.Arg335*), is located in the CDH1 gene\n",
      "The variant c.1018A>G (p.Thr340Ala), is located in the CDH1 gene\n",
      "There are 3 variants to work with.\n"
     ]
    }
   ],
   "source": [
    "a = Variant(vname=\"c.1090A>T (p.Thr364Ser)\", gene=\"CDH1\")\n",
    "print(a)\n",
    "c = Variant(vname=\"c.1003C>T (p.Arg335*)\", gene=\"CDH1\")\n",
    "print(c)\n",
    "d = Variant(vname=\"c.1018A>G (p.Thr340Ala)\", gene=\"CDH1\")\n",
    "print(d)\n",
    "d.how_many()"
   ]
  },
  {
   "cell_type": "code",
   "execution_count": 29,
   "metadata": {},
   "outputs": [
    {
     "name": "stdout",
     "output_type": "stream",
     "text": [
      "You are deleting the variant c.1003C>T (p.Arg335*)\n",
      "There are/is 2 more variant(s) to work with.\n"
     ]
    }
   ],
   "source": [
    "c.del_variant()"
   ]
  },
  {
   "cell_type": "code",
   "execution_count": 30,
   "metadata": {},
   "outputs": [
    {
     "name": "stdout",
     "output_type": "stream",
     "text": [
      "There are 177 CDH1 variants in the Individual_values_Table dataframe.\n",
      "But you are only working with 3 variants from this table.\n"
     ]
    }
   ],
   "source": [
    "b = VntCount(vname=\"c.1090A>T (p.Thr364Ser)\", gene=\"CDH1\",\n",
    "             dataF=Individual_values_Table, dfname=\"Individual_values_Table\")\n",
    "print(b)"
   ]
  },
  {
   "cell_type": "code",
   "execution_count": 31,
   "metadata": {
    "collapsed": true
   },
   "outputs": [],
   "source": [
    "def graphing(data_fr):\n",
    "    graphdb1 = data_fr.drop([\"Wildtype_Amino_Acid\", \"Codon\", \"Variant_Amino_Acid\", \"Wildtype_Seq\", \"Cdna_Position_Number\",\n",
    "                                         \"Variant_Seq\"], axis=1, inplace=False)\n",
    "    graphdb = graphdb1.groupby(\"Gene_Name\").count()\n",
    "    graphdb.columns = ['Variant_Count']\n",
    "    graphdb.plot(kind='bar', title=\"No. of Variants found by Gene\", color='pink')\n",
    "    return plt.show()"
   ]
  },
  {
   "cell_type": "code",
   "execution_count": 32,
   "metadata": {},
   "outputs": [
    {
     "data": {
      "image/png": "[encoded data removed]",
      "text/plain": [
       "<matplotlib.figure.Figure at 0x7fef244ece80>"
      ]
     },
     "metadata": {},
     "output_type": "display_data"
    }
   ],
   "source": [
    "graphing(Individual_values_Table)"
   ]
  },
  {
   "cell_type": "code",
   "execution_count": null,
   "metadata": {
    "collapsed": true
   },
   "outputs": [],
   "source": []
  }
 ],
 "metadata": {
  "kernelspec": {
   "display_name": "Python 3",
   "language": "python",
   "name": "python3"
  },
  "language_info": {
   "codemirror_mode": {
    "name": "ipython",
    "version": 3
   },
   "file_extension": ".py",
   "mimetype": "text/x-python",
   "name": "python",
   "nbconvert_exporter": "python",
   "pygments_lexer": "ipython3",
   "version": "3.5.2"
  }
 },
 "nbformat": 4,
 "nbformat_minor": 2
}
